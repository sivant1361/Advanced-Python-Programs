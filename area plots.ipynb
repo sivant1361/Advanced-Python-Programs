{
 "cells": [
  {
   "cell_type": "code",
   "execution_count": 1,
   "metadata": {},
   "outputs": [],
   "source": [
    "import pandas as pd"
   ]
  },
  {
   "cell_type": "code",
   "execution_count": 2,
   "metadata": {},
   "outputs": [],
   "source": [
    "import seaborn as s"
   ]
  },
  {
   "cell_type": "code",
   "execution_count": 3,
   "metadata": {},
   "outputs": [],
   "source": [
    "df1=pd.read_csv(\"df1\")"
   ]
  },
  {
   "cell_type": "code",
   "execution_count": 4,
   "metadata": {},
   "outputs": [],
   "source": [
    "df2=pd.read_csv(\"df2\")"
   ]
  },
  {
   "cell_type": "code",
   "execution_count": 5,
   "metadata": {},
   "outputs": [
    {
     "data": {
      "text/html": [
       "<div>\n",
       "<style scoped>\n",
       "    .dataframe tbody tr th:only-of-type {\n",
       "        vertical-align: middle;\n",
       "    }\n",
       "\n",
       "    .dataframe tbody tr th {\n",
       "        vertical-align: top;\n",
       "    }\n",
       "\n",
       "    .dataframe thead th {\n",
       "        text-align: right;\n",
       "    }\n",
       "</style>\n",
       "<table border=\"1\" class=\"dataframe\">\n",
       "  <thead>\n",
       "    <tr style=\"text-align: right;\">\n",
       "      <th></th>\n",
       "      <th>Unnamed: 0</th>\n",
       "      <th>A</th>\n",
       "      <th>B</th>\n",
       "      <th>C</th>\n",
       "      <th>D</th>\n",
       "    </tr>\n",
       "  </thead>\n",
       "  <tbody>\n",
       "    <tr>\n",
       "      <th>0</th>\n",
       "      <td>2000-01-01</td>\n",
       "      <td>1.339091</td>\n",
       "      <td>-0.163643</td>\n",
       "      <td>-0.646443</td>\n",
       "      <td>1.041233</td>\n",
       "    </tr>\n",
       "    <tr>\n",
       "      <th>1</th>\n",
       "      <td>2000-01-02</td>\n",
       "      <td>-0.774984</td>\n",
       "      <td>0.137034</td>\n",
       "      <td>-0.882716</td>\n",
       "      <td>-2.253382</td>\n",
       "    </tr>\n",
       "    <tr>\n",
       "      <th>2</th>\n",
       "      <td>2000-01-03</td>\n",
       "      <td>-0.921037</td>\n",
       "      <td>-0.482943</td>\n",
       "      <td>-0.417100</td>\n",
       "      <td>0.478638</td>\n",
       "    </tr>\n",
       "    <tr>\n",
       "      <th>3</th>\n",
       "      <td>2000-01-04</td>\n",
       "      <td>-1.738808</td>\n",
       "      <td>-0.072973</td>\n",
       "      <td>0.056517</td>\n",
       "      <td>0.015085</td>\n",
       "    </tr>\n",
       "    <tr>\n",
       "      <th>4</th>\n",
       "      <td>2000-01-05</td>\n",
       "      <td>-0.905980</td>\n",
       "      <td>1.778576</td>\n",
       "      <td>0.381918</td>\n",
       "      <td>0.291436</td>\n",
       "    </tr>\n",
       "    <tr>\n",
       "      <th>5</th>\n",
       "      <td>2000-01-06</td>\n",
       "      <td>-0.891165</td>\n",
       "      <td>0.741147</td>\n",
       "      <td>0.237482</td>\n",
       "      <td>-1.501909</td>\n",
       "    </tr>\n",
       "    <tr>\n",
       "      <th>6</th>\n",
       "      <td>2000-01-07</td>\n",
       "      <td>1.111132</td>\n",
       "      <td>0.287674</td>\n",
       "      <td>0.183012</td>\n",
       "      <td>1.359046</td>\n",
       "    </tr>\n",
       "    <tr>\n",
       "      <th>7</th>\n",
       "      <td>2000-01-08</td>\n",
       "      <td>-1.290901</td>\n",
       "      <td>-0.549247</td>\n",
       "      <td>-0.825183</td>\n",
       "      <td>0.328940</td>\n",
       "    </tr>\n",
       "    <tr>\n",
       "      <th>8</th>\n",
       "      <td>2000-01-09</td>\n",
       "      <td>-1.689655</td>\n",
       "      <td>0.818016</td>\n",
       "      <td>1.137704</td>\n",
       "      <td>0.334530</td>\n",
       "    </tr>\n",
       "    <tr>\n",
       "      <th>9</th>\n",
       "      <td>2000-01-10</td>\n",
       "      <td>0.416580</td>\n",
       "      <td>-1.188162</td>\n",
       "      <td>0.753229</td>\n",
       "      <td>-0.728224</td>\n",
       "    </tr>\n",
       "    <tr>\n",
       "      <th>10</th>\n",
       "      <td>2000-01-11</td>\n",
       "      <td>0.328968</td>\n",
       "      <td>-1.087598</td>\n",
       "      <td>1.352827</td>\n",
       "      <td>0.997733</td>\n",
       "    </tr>\n",
       "    <tr>\n",
       "      <th>11</th>\n",
       "      <td>2000-01-12</td>\n",
       "      <td>0.263585</td>\n",
       "      <td>-0.187620</td>\n",
       "      <td>-1.083475</td>\n",
       "      <td>-0.099250</td>\n",
       "    </tr>\n",
       "    <tr>\n",
       "      <th>12</th>\n",
       "      <td>2000-01-13</td>\n",
       "      <td>-0.293007</td>\n",
       "      <td>-0.813710</td>\n",
       "      <td>2.726993</td>\n",
       "      <td>1.869973</td>\n",
       "    </tr>\n",
       "    <tr>\n",
       "      <th>13</th>\n",
       "      <td>2000-01-14</td>\n",
       "      <td>1.108678</td>\n",
       "      <td>-0.339782</td>\n",
       "      <td>1.923170</td>\n",
       "      <td>0.156140</td>\n",
       "    </tr>\n",
       "    <tr>\n",
       "      <th>14</th>\n",
       "      <td>2000-01-15</td>\n",
       "      <td>1.818886</td>\n",
       "      <td>0.979137</td>\n",
       "      <td>0.554317</td>\n",
       "      <td>0.564793</td>\n",
       "    </tr>\n",
       "    <tr>\n",
       "      <th>15</th>\n",
       "      <td>2000-01-16</td>\n",
       "      <td>1.027913</td>\n",
       "      <td>0.419564</td>\n",
       "      <td>0.684419</td>\n",
       "      <td>-2.063248</td>\n",
       "    </tr>\n",
       "    <tr>\n",
       "      <th>16</th>\n",
       "      <td>2000-01-17</td>\n",
       "      <td>-0.016772</td>\n",
       "      <td>0.078902</td>\n",
       "      <td>-0.271826</td>\n",
       "      <td>1.955717</td>\n",
       "    </tr>\n",
       "    <tr>\n",
       "      <th>17</th>\n",
       "      <td>2000-01-18</td>\n",
       "      <td>0.430985</td>\n",
       "      <td>-0.415803</td>\n",
       "      <td>1.373315</td>\n",
       "      <td>-0.384551</td>\n",
       "    </tr>\n",
       "    <tr>\n",
       "      <th>18</th>\n",
       "      <td>2000-01-19</td>\n",
       "      <td>-0.032471</td>\n",
       "      <td>-0.430988</td>\n",
       "      <td>-0.462091</td>\n",
       "      <td>-0.111965</td>\n",
       "    </tr>\n",
       "    <tr>\n",
       "      <th>19</th>\n",
       "      <td>2000-01-20</td>\n",
       "      <td>-1.350663</td>\n",
       "      <td>0.522400</td>\n",
       "      <td>0.675806</td>\n",
       "      <td>1.265996</td>\n",
       "    </tr>\n",
       "    <tr>\n",
       "      <th>20</th>\n",
       "      <td>2000-01-21</td>\n",
       "      <td>-3.693201</td>\n",
       "      <td>0.113584</td>\n",
       "      <td>-1.396541</td>\n",
       "      <td>-0.511652</td>\n",
       "    </tr>\n",
       "    <tr>\n",
       "      <th>21</th>\n",
       "      <td>2000-01-22</td>\n",
       "      <td>0.150586</td>\n",
       "      <td>-0.062599</td>\n",
       "      <td>-2.156833</td>\n",
       "      <td>0.371905</td>\n",
       "    </tr>\n",
       "    <tr>\n",
       "      <th>22</th>\n",
       "      <td>2000-01-23</td>\n",
       "      <td>1.250711</td>\n",
       "      <td>-1.827653</td>\n",
       "      <td>1.383236</td>\n",
       "      <td>0.180290</td>\n",
       "    </tr>\n",
       "    <tr>\n",
       "      <th>23</th>\n",
       "      <td>2000-01-24</td>\n",
       "      <td>-0.388994</td>\n",
       "      <td>-2.232773</td>\n",
       "      <td>1.463254</td>\n",
       "      <td>-0.408696</td>\n",
       "    </tr>\n",
       "    <tr>\n",
       "      <th>24</th>\n",
       "      <td>2000-01-25</td>\n",
       "      <td>0.537929</td>\n",
       "      <td>1.245084</td>\n",
       "      <td>-1.643806</td>\n",
       "      <td>1.285650</td>\n",
       "    </tr>\n",
       "    <tr>\n",
       "      <th>25</th>\n",
       "      <td>2000-01-26</td>\n",
       "      <td>0.876444</td>\n",
       "      <td>0.541130</td>\n",
       "      <td>-0.119711</td>\n",
       "      <td>1.496265</td>\n",
       "    </tr>\n",
       "    <tr>\n",
       "      <th>26</th>\n",
       "      <td>2000-01-27</td>\n",
       "      <td>-0.334721</td>\n",
       "      <td>-0.770386</td>\n",
       "      <td>-0.322352</td>\n",
       "      <td>0.024415</td>\n",
       "    </tr>\n",
       "    <tr>\n",
       "      <th>27</th>\n",
       "      <td>2000-01-28</td>\n",
       "      <td>-0.185826</td>\n",
       "      <td>0.123726</td>\n",
       "      <td>1.177777</td>\n",
       "      <td>0.800962</td>\n",
       "    </tr>\n",
       "    <tr>\n",
       "      <th>28</th>\n",
       "      <td>2000-01-29</td>\n",
       "      <td>-0.302942</td>\n",
       "      <td>0.779981</td>\n",
       "      <td>-0.186529</td>\n",
       "      <td>1.200556</td>\n",
       "    </tr>\n",
       "    <tr>\n",
       "      <th>29</th>\n",
       "      <td>2000-01-30</td>\n",
       "      <td>0.391695</td>\n",
       "      <td>1.857841</td>\n",
       "      <td>0.841040</td>\n",
       "      <td>0.816690</td>\n",
       "    </tr>\n",
       "    <tr>\n",
       "      <th>...</th>\n",
       "      <td>...</td>\n",
       "      <td>...</td>\n",
       "      <td>...</td>\n",
       "      <td>...</td>\n",
       "      <td>...</td>\n",
       "    </tr>\n",
       "    <tr>\n",
       "      <th>970</th>\n",
       "      <td>2002-08-28</td>\n",
       "      <td>-0.945551</td>\n",
       "      <td>1.420895</td>\n",
       "      <td>-0.589778</td>\n",
       "      <td>0.683482</td>\n",
       "    </tr>\n",
       "    <tr>\n",
       "      <th>971</th>\n",
       "      <td>2002-08-29</td>\n",
       "      <td>-1.225699</td>\n",
       "      <td>0.393892</td>\n",
       "      <td>-0.501376</td>\n",
       "      <td>-2.230748</td>\n",
       "    </tr>\n",
       "    <tr>\n",
       "      <th>972</th>\n",
       "      <td>2002-08-30</td>\n",
       "      <td>0.802525</td>\n",
       "      <td>1.701675</td>\n",
       "      <td>-0.602445</td>\n",
       "      <td>-0.810762</td>\n",
       "    </tr>\n",
       "    <tr>\n",
       "      <th>973</th>\n",
       "      <td>2002-08-31</td>\n",
       "      <td>-0.231610</td>\n",
       "      <td>0.240685</td>\n",
       "      <td>0.060444</td>\n",
       "      <td>-0.064135</td>\n",
       "    </tr>\n",
       "    <tr>\n",
       "      <th>974</th>\n",
       "      <td>2002-09-01</td>\n",
       "      <td>-0.038232</td>\n",
       "      <td>-0.262958</td>\n",
       "      <td>-1.334062</td>\n",
       "      <td>1.496058</td>\n",
       "    </tr>\n",
       "    <tr>\n",
       "      <th>975</th>\n",
       "      <td>2002-09-02</td>\n",
       "      <td>1.032862</td>\n",
       "      <td>-0.414143</td>\n",
       "      <td>-0.181953</td>\n",
       "      <td>-0.692394</td>\n",
       "    </tr>\n",
       "    <tr>\n",
       "      <th>976</th>\n",
       "      <td>2002-09-03</td>\n",
       "      <td>-2.383108</td>\n",
       "      <td>-0.502583</td>\n",
       "      <td>0.637458</td>\n",
       "      <td>0.736152</td>\n",
       "    </tr>\n",
       "    <tr>\n",
       "      <th>977</th>\n",
       "      <td>2002-09-04</td>\n",
       "      <td>0.880475</td>\n",
       "      <td>0.959759</td>\n",
       "      <td>-0.524595</td>\n",
       "      <td>1.525841</td>\n",
       "    </tr>\n",
       "    <tr>\n",
       "      <th>978</th>\n",
       "      <td>2002-09-05</td>\n",
       "      <td>1.376326</td>\n",
       "      <td>-0.045998</td>\n",
       "      <td>-0.243696</td>\n",
       "      <td>-0.508514</td>\n",
       "    </tr>\n",
       "    <tr>\n",
       "      <th>979</th>\n",
       "      <td>2002-09-06</td>\n",
       "      <td>-0.606429</td>\n",
       "      <td>0.156255</td>\n",
       "      <td>-0.042847</td>\n",
       "      <td>0.831485</td>\n",
       "    </tr>\n",
       "    <tr>\n",
       "      <th>980</th>\n",
       "      <td>2002-09-07</td>\n",
       "      <td>0.305146</td>\n",
       "      <td>1.996391</td>\n",
       "      <td>0.684397</td>\n",
       "      <td>-0.120200</td>\n",
       "    </tr>\n",
       "    <tr>\n",
       "      <th>981</th>\n",
       "      <td>2002-09-08</td>\n",
       "      <td>-0.437734</td>\n",
       "      <td>-1.384752</td>\n",
       "      <td>-0.599394</td>\n",
       "      <td>1.017044</td>\n",
       "    </tr>\n",
       "    <tr>\n",
       "      <th>982</th>\n",
       "      <td>2002-09-09</td>\n",
       "      <td>-0.604485</td>\n",
       "      <td>-0.158500</td>\n",
       "      <td>-0.970334</td>\n",
       "      <td>-0.605930</td>\n",
       "    </tr>\n",
       "    <tr>\n",
       "      <th>983</th>\n",
       "      <td>2002-09-10</td>\n",
       "      <td>1.478642</td>\n",
       "      <td>-0.813482</td>\n",
       "      <td>-0.979528</td>\n",
       "      <td>1.810999</td>\n",
       "    </tr>\n",
       "    <tr>\n",
       "      <th>984</th>\n",
       "      <td>2002-09-11</td>\n",
       "      <td>1.775792</td>\n",
       "      <td>1.126895</td>\n",
       "      <td>0.500618</td>\n",
       "      <td>-0.651669</td>\n",
       "    </tr>\n",
       "    <tr>\n",
       "      <th>985</th>\n",
       "      <td>2002-09-12</td>\n",
       "      <td>-0.296569</td>\n",
       "      <td>0.605437</td>\n",
       "      <td>-0.231708</td>\n",
       "      <td>0.279035</td>\n",
       "    </tr>\n",
       "    <tr>\n",
       "      <th>986</th>\n",
       "      <td>2002-09-13</td>\n",
       "      <td>-0.467640</td>\n",
       "      <td>-0.326575</td>\n",
       "      <td>-0.979492</td>\n",
       "      <td>0.931248</td>\n",
       "    </tr>\n",
       "    <tr>\n",
       "      <th>987</th>\n",
       "      <td>2002-09-14</td>\n",
       "      <td>0.593389</td>\n",
       "      <td>1.268348</td>\n",
       "      <td>-0.577693</td>\n",
       "      <td>-0.174679</td>\n",
       "    </tr>\n",
       "    <tr>\n",
       "      <th>988</th>\n",
       "      <td>2002-09-15</td>\n",
       "      <td>-0.603348</td>\n",
       "      <td>1.642517</td>\n",
       "      <td>1.012129</td>\n",
       "      <td>-0.312620</td>\n",
       "    </tr>\n",
       "    <tr>\n",
       "      <th>989</th>\n",
       "      <td>2002-09-16</td>\n",
       "      <td>0.049240</td>\n",
       "      <td>-2.714693</td>\n",
       "      <td>-0.729410</td>\n",
       "      <td>0.065314</td>\n",
       "    </tr>\n",
       "    <tr>\n",
       "      <th>990</th>\n",
       "      <td>2002-09-17</td>\n",
       "      <td>1.151562</td>\n",
       "      <td>0.841401</td>\n",
       "      <td>-0.813823</td>\n",
       "      <td>0.583117</td>\n",
       "    </tr>\n",
       "    <tr>\n",
       "      <th>991</th>\n",
       "      <td>2002-09-18</td>\n",
       "      <td>0.190293</td>\n",
       "      <td>1.710245</td>\n",
       "      <td>-0.297924</td>\n",
       "      <td>-2.054158</td>\n",
       "    </tr>\n",
       "    <tr>\n",
       "      <th>992</th>\n",
       "      <td>2002-09-19</td>\n",
       "      <td>-0.244448</td>\n",
       "      <td>-1.090526</td>\n",
       "      <td>0.976216</td>\n",
       "      <td>-0.862612</td>\n",
       "    </tr>\n",
       "    <tr>\n",
       "      <th>993</th>\n",
       "      <td>2002-09-20</td>\n",
       "      <td>0.350934</td>\n",
       "      <td>1.748257</td>\n",
       "      <td>1.531209</td>\n",
       "      <td>0.624109</td>\n",
       "    </tr>\n",
       "    <tr>\n",
       "      <th>994</th>\n",
       "      <td>2002-09-21</td>\n",
       "      <td>-0.039354</td>\n",
       "      <td>-0.301679</td>\n",
       "      <td>-0.842649</td>\n",
       "      <td>-0.085582</td>\n",
       "    </tr>\n",
       "    <tr>\n",
       "      <th>995</th>\n",
       "      <td>2002-09-22</td>\n",
       "      <td>1.013897</td>\n",
       "      <td>-0.288680</td>\n",
       "      <td>-0.342295</td>\n",
       "      <td>-0.638537</td>\n",
       "    </tr>\n",
       "    <tr>\n",
       "      <th>996</th>\n",
       "      <td>2002-09-23</td>\n",
       "      <td>-0.642659</td>\n",
       "      <td>-0.104725</td>\n",
       "      <td>-0.631829</td>\n",
       "      <td>-0.909483</td>\n",
       "    </tr>\n",
       "    <tr>\n",
       "      <th>997</th>\n",
       "      <td>2002-09-24</td>\n",
       "      <td>0.370136</td>\n",
       "      <td>0.233219</td>\n",
       "      <td>0.535897</td>\n",
       "      <td>-1.552605</td>\n",
       "    </tr>\n",
       "    <tr>\n",
       "      <th>998</th>\n",
       "      <td>2002-09-25</td>\n",
       "      <td>0.183339</td>\n",
       "      <td>1.285783</td>\n",
       "      <td>-1.052593</td>\n",
       "      <td>-2.565844</td>\n",
       "    </tr>\n",
       "    <tr>\n",
       "      <th>999</th>\n",
       "      <td>2002-09-26</td>\n",
       "      <td>0.775133</td>\n",
       "      <td>-0.850374</td>\n",
       "      <td>0.486728</td>\n",
       "      <td>-1.053427</td>\n",
       "    </tr>\n",
       "  </tbody>\n",
       "</table>\n",
       "<p>1000 rows × 5 columns</p>\n",
       "</div>"
      ],
      "text/plain": [
       "     Unnamed: 0         A         B         C         D\n",
       "0    2000-01-01  1.339091 -0.163643 -0.646443  1.041233\n",
       "1    2000-01-02 -0.774984  0.137034 -0.882716 -2.253382\n",
       "2    2000-01-03 -0.921037 -0.482943 -0.417100  0.478638\n",
       "3    2000-01-04 -1.738808 -0.072973  0.056517  0.015085\n",
       "4    2000-01-05 -0.905980  1.778576  0.381918  0.291436\n",
       "5    2000-01-06 -0.891165  0.741147  0.237482 -1.501909\n",
       "6    2000-01-07  1.111132  0.287674  0.183012  1.359046\n",
       "7    2000-01-08 -1.290901 -0.549247 -0.825183  0.328940\n",
       "8    2000-01-09 -1.689655  0.818016  1.137704  0.334530\n",
       "9    2000-01-10  0.416580 -1.188162  0.753229 -0.728224\n",
       "10   2000-01-11  0.328968 -1.087598  1.352827  0.997733\n",
       "11   2000-01-12  0.263585 -0.187620 -1.083475 -0.099250\n",
       "12   2000-01-13 -0.293007 -0.813710  2.726993  1.869973\n",
       "13   2000-01-14  1.108678 -0.339782  1.923170  0.156140\n",
       "14   2000-01-15  1.818886  0.979137  0.554317  0.564793\n",
       "15   2000-01-16  1.027913  0.419564  0.684419 -2.063248\n",
       "16   2000-01-17 -0.016772  0.078902 -0.271826  1.955717\n",
       "17   2000-01-18  0.430985 -0.415803  1.373315 -0.384551\n",
       "18   2000-01-19 -0.032471 -0.430988 -0.462091 -0.111965\n",
       "19   2000-01-20 -1.350663  0.522400  0.675806  1.265996\n",
       "20   2000-01-21 -3.693201  0.113584 -1.396541 -0.511652\n",
       "21   2000-01-22  0.150586 -0.062599 -2.156833  0.371905\n",
       "22   2000-01-23  1.250711 -1.827653  1.383236  0.180290\n",
       "23   2000-01-24 -0.388994 -2.232773  1.463254 -0.408696\n",
       "24   2000-01-25  0.537929  1.245084 -1.643806  1.285650\n",
       "25   2000-01-26  0.876444  0.541130 -0.119711  1.496265\n",
       "26   2000-01-27 -0.334721 -0.770386 -0.322352  0.024415\n",
       "27   2000-01-28 -0.185826  0.123726  1.177777  0.800962\n",
       "28   2000-01-29 -0.302942  0.779981 -0.186529  1.200556\n",
       "29   2000-01-30  0.391695  1.857841  0.841040  0.816690\n",
       "..          ...       ...       ...       ...       ...\n",
       "970  2002-08-28 -0.945551  1.420895 -0.589778  0.683482\n",
       "971  2002-08-29 -1.225699  0.393892 -0.501376 -2.230748\n",
       "972  2002-08-30  0.802525  1.701675 -0.602445 -0.810762\n",
       "973  2002-08-31 -0.231610  0.240685  0.060444 -0.064135\n",
       "974  2002-09-01 -0.038232 -0.262958 -1.334062  1.496058\n",
       "975  2002-09-02  1.032862 -0.414143 -0.181953 -0.692394\n",
       "976  2002-09-03 -2.383108 -0.502583  0.637458  0.736152\n",
       "977  2002-09-04  0.880475  0.959759 -0.524595  1.525841\n",
       "978  2002-09-05  1.376326 -0.045998 -0.243696 -0.508514\n",
       "979  2002-09-06 -0.606429  0.156255 -0.042847  0.831485\n",
       "980  2002-09-07  0.305146  1.996391  0.684397 -0.120200\n",
       "981  2002-09-08 -0.437734 -1.384752 -0.599394  1.017044\n",
       "982  2002-09-09 -0.604485 -0.158500 -0.970334 -0.605930\n",
       "983  2002-09-10  1.478642 -0.813482 -0.979528  1.810999\n",
       "984  2002-09-11  1.775792  1.126895  0.500618 -0.651669\n",
       "985  2002-09-12 -0.296569  0.605437 -0.231708  0.279035\n",
       "986  2002-09-13 -0.467640 -0.326575 -0.979492  0.931248\n",
       "987  2002-09-14  0.593389  1.268348 -0.577693 -0.174679\n",
       "988  2002-09-15 -0.603348  1.642517  1.012129 -0.312620\n",
       "989  2002-09-16  0.049240 -2.714693 -0.729410  0.065314\n",
       "990  2002-09-17  1.151562  0.841401 -0.813823  0.583117\n",
       "991  2002-09-18  0.190293  1.710245 -0.297924 -2.054158\n",
       "992  2002-09-19 -0.244448 -1.090526  0.976216 -0.862612\n",
       "993  2002-09-20  0.350934  1.748257  1.531209  0.624109\n",
       "994  2002-09-21 -0.039354 -0.301679 -0.842649 -0.085582\n",
       "995  2002-09-22  1.013897 -0.288680 -0.342295 -0.638537\n",
       "996  2002-09-23 -0.642659 -0.104725 -0.631829 -0.909483\n",
       "997  2002-09-24  0.370136  0.233219  0.535897 -1.552605\n",
       "998  2002-09-25  0.183339  1.285783 -1.052593 -2.565844\n",
       "999  2002-09-26  0.775133 -0.850374  0.486728 -1.053427\n",
       "\n",
       "[1000 rows x 5 columns]"
      ]
     },
     "execution_count": 5,
     "metadata": {},
     "output_type": "execute_result"
    }
   ],
   "source": [
    "df1"
   ]
  },
  {
   "cell_type": "code",
   "execution_count": 6,
   "metadata": {},
   "outputs": [
    {
     "data": {
      "text/html": [
       "<div>\n",
       "<style scoped>\n",
       "    .dataframe tbody tr th:only-of-type {\n",
       "        vertical-align: middle;\n",
       "    }\n",
       "\n",
       "    .dataframe tbody tr th {\n",
       "        vertical-align: top;\n",
       "    }\n",
       "\n",
       "    .dataframe thead th {\n",
       "        text-align: right;\n",
       "    }\n",
       "</style>\n",
       "<table border=\"1\" class=\"dataframe\">\n",
       "  <thead>\n",
       "    <tr style=\"text-align: right;\">\n",
       "      <th></th>\n",
       "      <th>a</th>\n",
       "      <th>b</th>\n",
       "      <th>c</th>\n",
       "      <th>d</th>\n",
       "    </tr>\n",
       "  </thead>\n",
       "  <tbody>\n",
       "    <tr>\n",
       "      <th>0</th>\n",
       "      <td>0.039762</td>\n",
       "      <td>0.218517</td>\n",
       "      <td>0.103423</td>\n",
       "      <td>0.957904</td>\n",
       "    </tr>\n",
       "    <tr>\n",
       "      <th>1</th>\n",
       "      <td>0.937288</td>\n",
       "      <td>0.041567</td>\n",
       "      <td>0.899125</td>\n",
       "      <td>0.977680</td>\n",
       "    </tr>\n",
       "    <tr>\n",
       "      <th>2</th>\n",
       "      <td>0.780504</td>\n",
       "      <td>0.008948</td>\n",
       "      <td>0.557808</td>\n",
       "      <td>0.797510</td>\n",
       "    </tr>\n",
       "    <tr>\n",
       "      <th>3</th>\n",
       "      <td>0.672717</td>\n",
       "      <td>0.247870</td>\n",
       "      <td>0.264071</td>\n",
       "      <td>0.444358</td>\n",
       "    </tr>\n",
       "    <tr>\n",
       "      <th>4</th>\n",
       "      <td>0.053829</td>\n",
       "      <td>0.520124</td>\n",
       "      <td>0.552264</td>\n",
       "      <td>0.190008</td>\n",
       "    </tr>\n",
       "    <tr>\n",
       "      <th>5</th>\n",
       "      <td>0.286043</td>\n",
       "      <td>0.593465</td>\n",
       "      <td>0.907307</td>\n",
       "      <td>0.637898</td>\n",
       "    </tr>\n",
       "    <tr>\n",
       "      <th>6</th>\n",
       "      <td>0.430436</td>\n",
       "      <td>0.166230</td>\n",
       "      <td>0.469383</td>\n",
       "      <td>0.497701</td>\n",
       "    </tr>\n",
       "    <tr>\n",
       "      <th>7</th>\n",
       "      <td>0.312296</td>\n",
       "      <td>0.502823</td>\n",
       "      <td>0.806609</td>\n",
       "      <td>0.850519</td>\n",
       "    </tr>\n",
       "    <tr>\n",
       "      <th>8</th>\n",
       "      <td>0.187765</td>\n",
       "      <td>0.997075</td>\n",
       "      <td>0.895955</td>\n",
       "      <td>0.530390</td>\n",
       "    </tr>\n",
       "    <tr>\n",
       "      <th>9</th>\n",
       "      <td>0.908162</td>\n",
       "      <td>0.232726</td>\n",
       "      <td>0.414138</td>\n",
       "      <td>0.432007</td>\n",
       "    </tr>\n",
       "  </tbody>\n",
       "</table>\n",
       "</div>"
      ],
      "text/plain": [
       "          a         b         c         d\n",
       "0  0.039762  0.218517  0.103423  0.957904\n",
       "1  0.937288  0.041567  0.899125  0.977680\n",
       "2  0.780504  0.008948  0.557808  0.797510\n",
       "3  0.672717  0.247870  0.264071  0.444358\n",
       "4  0.053829  0.520124  0.552264  0.190008\n",
       "5  0.286043  0.593465  0.907307  0.637898\n",
       "6  0.430436  0.166230  0.469383  0.497701\n",
       "7  0.312296  0.502823  0.806609  0.850519\n",
       "8  0.187765  0.997075  0.895955  0.530390\n",
       "9  0.908162  0.232726  0.414138  0.432007"
      ]
     },
     "execution_count": 6,
     "metadata": {},
     "output_type": "execute_result"
    }
   ],
   "source": [
    "df2"
   ]
  },
  {
   "cell_type": "code",
   "execution_count": 7,
   "metadata": {},
   "outputs": [
    {
     "data": {
      "text/plain": [
       "<matplotlib.axes._subplots.AxesSubplot at 0x19eca1155f8>"
      ]
     },
     "execution_count": 7,
     "metadata": {},
     "output_type": "execute_result"
    },
    {
     "data": {
      "image/png": "[encoded data removed]",
      "text/plain": [
       "<Figure size 432x288 with 1 Axes>"
      ]
     },
     "metadata": {
      "needs_background": "light"
     },
     "output_type": "display_data"
    }
   ],
   "source": [
    "df1[\"A\"].hist(bins=15)"
   ]
  },
  {
   "cell_type": "code",
   "execution_count": 8,
   "metadata": {},
   "outputs": [
    {
     "data": {
      "text/plain": [
       "array([[<matplotlib.axes._subplots.AxesSubplot object at 0x0000019EC46054A8>,\n",
       "        <matplotlib.axes._subplots.AxesSubplot object at 0x0000019ECA4A6F60>],\n",
       "       [<matplotlib.axes._subplots.AxesSubplot object at 0x0000019ECA4E5278>,\n",
       "        <matplotlib.axes._subplots.AxesSubplot object at 0x0000019ECA5147F0>]],\n",
       "      dtype=object)"
      ]
     },
     "execution_count": 8,
     "metadata": {},
     "output_type": "execute_result"
    },
    {
     "data": {
      "image/png": "[encoded data removed]",
      "text/plain": [
       "<Figure size 432x288 with 4 Axes>"
      ]
     },
     "metadata": {
      "needs_background": "light"
     },
     "output_type": "display_data"
    }
   ],
   "source": [
    "df1.hist(color=\"silver\")"
   ]
  },
  {
   "cell_type": "code",
   "execution_count": 9,
   "metadata": {},
   "outputs": [
    {
     "data": {
      "text/plain": [
       "<matplotlib.axes._subplots.AxesSubplot at 0x19eca633be0>"
      ]
     },
     "execution_count": 9,
     "metadata": {},
     "output_type": "execute_result"
    },
    {
     "data": {
      "image/png": "[encoded data removed]",
      "text/plain": [
       "<Figure size 432x288 with 1 Axes>"
      ]
     },
     "metadata": {
      "needs_background": "light"
     },
     "output_type": "display_data"
    }
   ],
   "source": [
    "df1.head(50).plot.hist(cmap=\"coolwarm\")"
   ]
  },
  {
   "cell_type": "code",
   "execution_count": 10,
   "metadata": {},
   "outputs": [
    {
     "data": {
      "text/plain": [
       "<matplotlib.axes._subplots.AxesSubplot at 0x19eca710cc0>"
      ]
     },
     "execution_count": 10,
     "metadata": {},
     "output_type": "execute_result"
    },
    {
     "data": {
      "image/png": "[encoded data removed]",
      "text/plain": [
       "<Figure size 432x288 with 1 Axes>"
      ]
     },
     "metadata": {
      "needs_background": "light"
     },
     "output_type": "display_data"
    }
   ],
   "source": [
    "df2[\"a\"].plot.area()"
   ]
  },
  {
   "cell_type": "code",
   "execution_count": 11,
   "metadata": {},
   "outputs": [
    {
     "data": {
      "text/plain": [
       "<matplotlib.axes._subplots.AxesSubplot at 0x19eca7e47b8>"
      ]
     },
     "execution_count": 11,
     "metadata": {},
     "output_type": "execute_result"
    },
    {
     "data": {
      "image/png": "[encoded data removed]",
      "text/plain": [
       "<Figure size 432x288 with 1 Axes>"
      ]
     },
     "metadata": {
      "needs_background": "light"
     },
     "output_type": "display_data"
    }
   ],
   "source": [
    "df2.plot.area(cmap=\"coolwarm\")"
   ]
  },
  {
   "cell_type": "code",
   "execution_count": 12,
   "metadata": {},
   "outputs": [
    {
     "data": {
      "text/plain": [
       "<matplotlib.axes._subplots.AxesSubplot at 0x19eca868f98>"
      ]
     },
     "execution_count": 12,
     "metadata": {},
     "output_type": "execute_result"
    },
    {
     "data": {
      "image/png": "[encoded data removed]",
      "text/plain": [
       "<Figure size 432x288 with 2 Axes>"
      ]
     },
     "metadata": {
      "needs_background": "light"
     },
     "output_type": "display_data"
    }
   ],
   "source": [
    "df1.plot.hexbin(x='A',y='B',gridsize=25)"
   ]
  },
  {
   "cell_type": "code",
   "execution_count": 13,
   "metadata": {},
   "outputs": [
    {
     "data": {
      "text/plain": [
       "<matplotlib.axes._subplots.AxesSubplot at 0x19eca943898>"
      ]
     },
     "execution_count": 13,
     "metadata": {},
     "output_type": "execute_result"
    },
    {
     "data": {
      "image/png": "[encoded data removed]",
      "text/plain": [
       "<Figure size 432x288 with 1 Axes>"
      ]
     },
     "metadata": {
      "needs_background": "light"
     },
     "output_type": "display_data"
    }
   ],
   "source": [
    "df2.plot.density()"
   ]
  },
  {
   "cell_type": "code",
   "execution_count": 14,
   "metadata": {},
   "outputs": [
    {
     "data": {
      "text/plain": [
       "<matplotlib.axes._subplots.AxesSubplot at 0x19eca9b07f0>"
      ]
     },
     "execution_count": 14,
     "metadata": {},
     "output_type": "execute_result"
    },
    {
     "data": {
      "image/png": "[encoded data removed]",
      "text/plain": [
       "<Figure size 432x288 with 1 Axes>"
      ]
     },
     "metadata": {
      "needs_background": "light"
     },
     "output_type": "display_data"
    }
   ],
   "source": [
    "df2[\"a\"].plot.density()"
   ]
  },
  {
   "cell_type": "code",
   "execution_count": 15,
   "metadata": {},
   "outputs": [
    {
     "data": {
      "text/plain": [
       "<matplotlib.axes._subplots.AxesSubplot at 0x19ecaa15160>"
      ]
     },
     "execution_count": 15,
     "metadata": {},
     "output_type": "execute_result"
    },
    {
     "data": {
      "image/png": "[encoded data removed]",
      "text/plain": [
       "<Figure size 432x288 with 1 Axes>"
      ]
     },
     "metadata": {
      "needs_background": "light"
     },
     "output_type": "display_data"
    }
   ],
   "source": [
    "df2.plot.scatter(x='a',y='b',s=20)"
   ]
  },
  {
   "cell_type": "code",
   "execution_count": null,
   "metadata": {},
   "outputs": [],
   "source": []
  }
 ],
 "metadata": {
  "kernelspec": {
   "display_name": "Python 3",
   "language": "python",
   "name": "python3"
  },
  "language_info": {
   "codemirror_mode": {
    "name": "ipython",
    "version": 3
   },
   "file_extension": ".py",
   "mimetype": "text/x-python",
   "name": "python",
   "nbconvert_exporter": "python",
   "pygments_lexer": "ipython3",
   "version": "3.7.3"
  }
 },
 "nbformat": 4,
 "nbformat_minor": 2
}
