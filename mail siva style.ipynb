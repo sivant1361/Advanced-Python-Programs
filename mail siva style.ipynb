{
 "cells": [
  {
   "cell_type": "code",
   "execution_count": 1,
   "metadata": {},
   "outputs": [],
   "source": [
    "import pandas as pd"
   ]
  },
  {
   "cell_type": "code",
   "execution_count": 2,
   "metadata": {},
   "outputs": [],
   "source": [
    "ecom=pd.read_csv(\"Ecommerce Purchases.csv\")"
   ]
  },
  {
   "cell_type": "code",
   "execution_count": 6,
   "metadata": {},
   "outputs": [
    {
     "name": "stdout",
     "output_type": "stream",
     "text": [
      "       @yahoo.com  @reed.com        @gmail.com  @parks.info  @rasmussen.com  \\\n",
      "Key          1616          8  1731        1605            1               3   \n",
      "Value        1616          8  1731        1605            1               3   \n",
      "\n",
      "       @hotmail.com  @coleman.com  @wilson.com  @hall.com  ...  @craig.org  \\\n",
      "Key            1638             5           11          9  ...           1   \n",
      "Value          1638             5           11          9  ...           1   \n",
      "\n",
      "       @banks.com  @gilbert.info  @daniel.net  @valencia.net  @warner.org  \\\n",
      "Key             1              1            1              1            1   \n",
      "Value           1              1            1              1            1   \n",
      "\n",
      "       @roman.net  @schwartz.com  @novak.biz  @sherman.biz  \n",
      "Key             1              1           1             1  \n",
      "Value           1              1           1             1  \n",
      "\n",
      "[2 rows x 1689 columns]\n"
     ]
    }
   ],
   "source": [
    "import re\n",
    "d={}\n",
    "k=\"\"\n",
    "for i in ecom[\"Email\"]:\n",
    "    j= re.findall(r\"[@]\\w+[.]\\w+\",i)\n",
    "    k=k.join(j)\n",
    "    if k not in d:\n",
    "        d[k]=1\n",
    "    else:\n",
    "        d[k]=d[k]+1\n",
    "df=pd.DataFrame(d,index=[\"Key\",\"Value\"])\n",
    "print(df)\n"
   ]
  },
  {
   "cell_type": "code",
   "execution_count": null,
   "metadata": {},
   "outputs": [],
   "source": []
  },
  {
   "cell_type": "code",
   "execution_count": null,
   "metadata": {},
   "outputs": [],
   "source": []
  }
 ],
 "metadata": {
  "kernelspec": {
   "display_name": "Python 3",
   "language": "python",
   "name": "python3"
  },
  "language_info": {
   "codemirror_mode": {
    "name": "ipython",
    "version": 3
   },
   "file_extension": ".py",
   "mimetype": "text/x-python",
   "name": "python",
   "nbconvert_exporter": "python",
   "pygments_lexer": "ipython3",
   "version": "3.7.3"
  }
 },
 "nbformat": 4,
 "nbformat_minor": 2
}
